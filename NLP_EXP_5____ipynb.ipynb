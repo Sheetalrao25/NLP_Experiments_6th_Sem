{
  "nbformat": 4,
  "nbformat_minor": 0,
  "metadata": {
    "colab": {
      "provenance": []
    },
    "kernelspec": {
      "name": "python3",
      "display_name": "Python 3"
    },
    "language_info": {
      "name": "python"
    }
  },
  "cells": [
    {
      "cell_type": "code",
      "execution_count": 13,
      "metadata": {
        "id": "gOCb7Trxd5l_"
      },
      "outputs": [],
      "source": [
        "import nltk"
      ]
    },
    {
      "cell_type": "code",
      "source": [
        "from nltk import word_tokenize\n",
        "paragraph = (\"There is no specific format for writing a paragraph, as it is a narration of your own thoughts, ideas, and vision. Also, there are no restrictions to your writing. But a paragraph is called a well-written paragraph when this sequence is maintained — a topic sentence, then the description, and then the concluding statement.\")"
      ],
      "metadata": {
        "id": "OdgelGmod7eZ"
      },
      "execution_count": 14,
      "outputs": []
    },
    {
      "cell_type": "code",
      "source": [
        "print(word_tokenize(paragraph))"
      ],
      "metadata": {
        "colab": {
          "base_uri": "https://localhost:8080/"
        },
        "id": "7l57YSMVd7sZ",
        "outputId": "9ee7653d-8b04-4e9d-b567-ba7bed9dd82b"
      },
      "execution_count": 15,
      "outputs": [
        {
          "output_type": "stream",
          "name": "stdout",
          "text": [
            "['There', 'is', 'no', 'specific', 'format', 'for', 'writing', 'a', 'paragraph', ',', 'as', 'it', 'is', 'a', 'narration', 'of', 'your', 'own', 'thoughts', ',', 'ideas', ',', 'and', 'vision', '.', 'Also', ',', 'there', 'are', 'no', 'restrictions', 'to', 'your', 'writing', '.', 'But', 'a', 'paragraph', 'is', 'called', 'a', 'well-written', 'paragraph', 'when', 'this', 'sequence', 'is', 'maintained', '—', 'a', 'topic', 'sentence', ',', 'then', 'the', 'description', ',', 'and', 'then', 'the', 'concluding', 'statement', '.']\n"
          ]
        }
      ]
    },
    {
      "cell_type": "code",
      "source": [
        "from collections import Counter"
      ],
      "metadata": {
        "id": "S15saef3iXDv"
      },
      "execution_count": 16,
      "outputs": []
    },
    {
      "cell_type": "code",
      "source": [
        "tokens = paragraph.split()"
      ],
      "metadata": {
        "id": "xguT--yWd7vM"
      },
      "execution_count": 18,
      "outputs": []
    },
    {
      "cell_type": "code",
      "source": [
        "word_freq = {}\n"
      ],
      "metadata": {
        "id": "K7fVDbeld7yE"
      },
      "execution_count": 19,
      "outputs": []
    },
    {
      "cell_type": "code",
      "source": [
        "for token in tokens:\n",
        "    token = token.strip(\".,!?;:\")\n",
        "    token = token.lower()\n",
        "    if token in word_freq:\n",
        "        word_freq[token] += 1\n",
        "    else:\n",
        "        word_freq[token]=1"
      ],
      "metadata": {
        "id": "U2KM0mXInpxD"
      },
      "execution_count": 22,
      "outputs": []
    },
    {
      "cell_type": "code",
      "source": [
        "for word, freq in word_freq.items():\n",
        "    print(f\"{word}: {freq}\")"
      ],
      "metadata": {
        "colab": {
          "base_uri": "https://localhost:8080/"
        },
        "id": "cZdpiNFjnpzN",
        "outputId": "cff47a0c-3f93-4004-b4d2-fbf131c562ba"
      },
      "execution_count": 23,
      "outputs": [
        {
          "output_type": "stream",
          "name": "stdout",
          "text": [
            "there: 2\n",
            "is: 4\n",
            "no: 2\n",
            "specific: 1\n",
            "format: 1\n",
            "for: 1\n",
            "writing: 2\n",
            "a: 5\n",
            "paragraph: 3\n",
            "as: 1\n",
            "it: 1\n",
            "narration: 1\n",
            "of: 1\n",
            "your: 2\n",
            "own: 1\n",
            "thoughts: 1\n",
            "ideas: 1\n",
            "and: 2\n",
            "vision: 1\n",
            "also: 1\n",
            "are: 1\n",
            "restrictions: 1\n",
            "to: 1\n",
            "but: 1\n",
            "called: 1\n",
            "well-written: 1\n",
            "when: 1\n",
            "this: 1\n",
            "sequence: 1\n",
            "maintained: 1\n",
            "—: 1\n",
            "topic: 1\n",
            "sentence: 1\n",
            "then: 2\n",
            "the: 2\n",
            "description: 1\n",
            "concluding: 1\n",
            "statement: 1\n"
          ]
        }
      ]
    },
    {
      "cell_type": "code",
      "source": [],
      "metadata": {
        "id": "LoFWHsymd71s"
      },
      "execution_count": null,
      "outputs": []
    }
  ]
}